{
 "cells": [
  {
   "attachments": {},
   "cell_type": "markdown",
   "metadata": {},
   "source": [
    "## Working with CSV Files"
   ]
  },
  {
   "attachments": {},
   "cell_type": "markdown",
   "metadata": {},
   "source": [
    "First, enable the reload of any modules that we will be importing. This mean that when we import our modules, it'll be sure to import the most recent version."
   ]
  },
  {
   "cell_type": "code",
   "execution_count": 5,
   "metadata": {},
   "outputs": [
    {
     "name": "stdout",
     "output_type": "stream",
     "text": [
      "Autoreloading of imported modules enabled.\n"
     ]
    }
   ],
   "source": [
    "%reload_ext autoreload\n",
    "%autoreload 2\n",
    "print(\"Autoreloading of imported modules enabled.\")"
   ]
  },
  {
   "attachments": {},
   "cell_type": "markdown",
   "metadata": {},
   "source": [
    "## Reading a csv file"
   ]
  },
  {
   "cell_type": "code",
   "execution_count": 6,
   "metadata": {},
   "outputs": [
    {
     "data": {
      "text/plain": [
       "[{'\\ufeffState': 'AR - Little Rock',\n",
       "  ' Stops': ' 13641',\n",
       "  ' Time Range': ' Dec 2016 - Nov 2017'},\n",
       " {'\\ufeffState': 'AZ - Mesa',\n",
       "  ' Stops': ' 157015',\n",
       "  ' Time Range': ' Dec 2013 - Sep 2019'},\n",
       " {'\\ufeffState': 'CA - Los Angeles',\n",
       "  ' Stops': ' 5418400',\n",
       "  ' Time Range': ' Dec 2009 - June 2018'}]"
      ]
     },
     "execution_count": 6,
     "metadata": {},
     "output_type": "execute_result"
    }
   ],
   "source": [
    "from data_utils import head\n",
    "\n",
    "filename: str = \"../ex08/policing.csv\"\n",
    "data: list[dict[str,str]] = head(filename)\n",
    "data\n"
   ]
  },
  {
   "attachments": {},
   "cell_type": "markdown",
   "metadata": {},
   "source": [
    "## Getting data from one column"
   ]
  },
  {
   "cell_type": "code",
   "execution_count": 7,
   "metadata": {},
   "outputs": [
    {
     "ename": "KeyError",
     "evalue": "'Time Range'",
     "output_type": "error",
     "traceback": [
      "\u001b[0;31m---------------------------------------------------------------------------\u001b[0m",
      "\u001b[0;31mKeyError\u001b[0m                                  Traceback (most recent call last)",
      "Cell \u001b[0;32mIn[7], line 2\u001b[0m\n\u001b[1;32m      1\u001b[0m \u001b[39mfrom\u001b[39;00m \u001b[39mdata_utils\u001b[39;00m \u001b[39mimport\u001b[39;00m select\n\u001b[0;32m----> 2\u001b[0m select(data, \u001b[39m\"\u001b[39;49m\u001b[39mTime Range\u001b[39;49m\u001b[39m\"\u001b[39;49m)\n",
      "File \u001b[0;32m~/comp110-23s-workspace/exercises/ex08/data_utils.py:23\u001b[0m, in \u001b[0;36mselect\u001b[0;34m(table, column)\u001b[0m\n\u001b[1;32m     20\u001b[0m \u001b[39m#step through table\u001b[39;00m\n\u001b[1;32m     21\u001b[0m \u001b[39mfor\u001b[39;00m row \u001b[39min\u001b[39;00m table:\n\u001b[1;32m     22\u001b[0m     \u001b[39m#save every value under key \"header\"\u001b[39;00m\n\u001b[0;32m---> 23\u001b[0m     item: \u001b[39mstr\u001b[39m \u001b[39m=\u001b[39m row[column]\n\u001b[1;32m     24\u001b[0m     result\u001b[39m.\u001b[39mappend(item)\n\u001b[1;32m     25\u001b[0m \u001b[39mreturn\u001b[39;00m result\n",
      "\u001b[0;31mKeyError\u001b[0m: 'Time Range'"
     ]
    }
   ],
   "source": [
    "from data_utils import select\n",
    "select(data, \"Time Range\")"
   ]
  },
  {
   "attachments": {},
   "cell_type": "markdown",
   "metadata": {},
   "source": [
    "## Reformat Table"
   ]
  },
  {
   "cell_type": "code",
   "execution_count": 8,
   "metadata": {},
   "outputs": [
    {
     "data": {
      "text/plain": [
       "{'\\ufeffState': ['AR - Little Rock', 'AZ - Mesa', 'CA - Los Angeles'],\n",
       " ' Stops': [' 13641', ' 157015', ' 5418400'],\n",
       " ' Time Range': [' Dec 2016 - Nov 2017',\n",
       "  ' Dec 2013 - Sep 2019',\n",
       "  ' Dec 2009 - June 2018']}"
      ]
     },
     "execution_count": 8,
     "metadata": {},
     "output_type": "execute_result"
    }
   ],
   "source": [
    "from data_utils import concat\n",
    "concat(data)"
   ]
  }
 ],
 "metadata": {
  "kernelspec": {
   "display_name": ".venv",
   "language": "python",
   "name": "python3"
  },
  "language_info": {
   "codemirror_mode": {
    "name": "ipython",
    "version": 3
   },
   "file_extension": ".py",
   "mimetype": "text/x-python",
   "name": "python",
   "nbconvert_exporter": "python",
   "pygments_lexer": "ipython3",
   "version": "3.11.1 (v3.11.1:a7a450f84a, Dec  6 2022, 15:24:06) [Clang 13.0.0 (clang-1300.0.29.30)]"
  },
  "orig_nbformat": 4,
  "vscode": {
   "interpreter": {
    "hash": "841d95d80ca54741cb48370838f0aaba3028bfb6b30295020ec163fc08903de8"
   }
  }
 },
 "nbformat": 4,
 "nbformat_minor": 2
}
